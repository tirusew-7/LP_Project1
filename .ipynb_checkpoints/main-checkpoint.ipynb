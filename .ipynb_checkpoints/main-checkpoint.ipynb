{
 "cells": [
  {
   "cell_type": "markdown",
   "metadata": {},
   "source": [
    " "
   ]
  },
  {
   "cell_type": "code",
   "execution_count": 125,
   "metadata": {
    "tags": []
   },
   "outputs": [],
   "source": [
    "import pandas as pd\n",
    "import numpy as np\n",
    "import matplotlib.pyplot as plt\n",
    "import seaborn as sns\n",
    "import textwrap\n",
    "import warnings\n",
    "warnings.filterwarnings('ignore')\n",
    "from forex_python.converter import CurrencyRates\n",
    "import re\n",
    "from scipy.stats import skew, kurtosis\n",
    "from scipy.stats import chi2_contingency\n",
    "from scipy.stats import ks_2samp\n",
    "import scipy.stats\n",
    "import scipy.stats as stats\n",
    "from sklearn.preprocessing import LabelEncoder\n",
    "from sklearn.impute import SimpleImputer\n",
    "from scipy.stats import kruskal, mannwhitneyu"
   ]
  },
  {
   "cell_type": "code",
   "execution_count": 126,
   "metadata": {
    "tags": []
   },
   "outputs": [],
   "source": [
    "df_2018 = pd.read_csv('startup_funding2018.csv')\n",
    "df_2019 = pd.read_csv('startup_funding2019.csv')\n",
    "df_2020 = pd.read_csv('startup_funding2020.csv')\n",
    "df_2021 = pd.read_csv('startup_funding2021.csv')"
   ]
  },
  {
   "cell_type": "code",
   "execution_count": 127,
   "metadata": {
    "tags": []
   },
   "outputs": [
    {
     "data": {
      "text/html": [
       "<div>\n",
       "<style scoped>\n",
       "    .dataframe tbody tr th:only-of-type {\n",
       "        vertical-align: middle;\n",
       "    }\n",
       "\n",
       "    .dataframe tbody tr th {\n",
       "        vertical-align: top;\n",
       "    }\n",
       "\n",
       "    .dataframe thead th {\n",
       "        text-align: right;\n",
       "    }\n",
       "</style>\n",
       "<table border=\"1\" class=\"dataframe\">\n",
       "  <thead>\n",
       "    <tr style=\"text-align: right;\">\n",
       "      <th></th>\n",
       "      <th>Company Name</th>\n",
       "      <th>Industry</th>\n",
       "      <th>Round/Series</th>\n",
       "      <th>Amount</th>\n",
       "      <th>Location</th>\n",
       "      <th>About Company</th>\n",
       "    </tr>\n",
       "  </thead>\n",
       "  <tbody>\n",
       "  </tbody>\n",
       "</table>\n",
       "</div>"
      ],
      "text/plain": [
       "Empty DataFrame\n",
       "Columns: [Company Name, Industry, Round/Series, Amount, Location, About Company]\n",
       "Index: []"
      ]
     },
     "execution_count": 127,
     "metadata": {},
     "output_type": "execute_result"
    }
   ],
   "source": [
    "df_2018.head(0)"
   ]
  },
  {
   "cell_type": "code",
   "execution_count": 128,
   "metadata": {
    "tags": []
   },
   "outputs": [
    {
     "data": {
      "text/html": [
       "<div>\n",
       "<style scoped>\n",
       "    .dataframe tbody tr th:only-of-type {\n",
       "        vertical-align: middle;\n",
       "    }\n",
       "\n",
       "    .dataframe tbody tr th {\n",
       "        vertical-align: top;\n",
       "    }\n",
       "\n",
       "    .dataframe thead th {\n",
       "        text-align: right;\n",
       "    }\n",
       "</style>\n",
       "<table border=\"1\" class=\"dataframe\">\n",
       "  <thead>\n",
       "    <tr style=\"text-align: right;\">\n",
       "      <th></th>\n",
       "      <th>Company/Brand</th>\n",
       "      <th>Founded</th>\n",
       "      <th>HeadQuarter</th>\n",
       "      <th>Sector</th>\n",
       "      <th>What it does</th>\n",
       "      <th>Founders</th>\n",
       "      <th>Investor</th>\n",
       "      <th>Amount($)</th>\n",
       "      <th>Stage</th>\n",
       "    </tr>\n",
       "  </thead>\n",
       "  <tbody>\n",
       "  </tbody>\n",
       "</table>\n",
       "</div>"
      ],
      "text/plain": [
       "Empty DataFrame\n",
       "Columns: [Company/Brand, Founded, HeadQuarter, Sector, What it does, Founders, Investor, Amount($), Stage]\n",
       "Index: []"
      ]
     },
     "execution_count": 128,
     "metadata": {},
     "output_type": "execute_result"
    }
   ],
   "source": [
    "df_2019.head(0)"
   ]
  },
  {
   "cell_type": "code",
   "execution_count": 129,
   "metadata": {
    "tags": []
   },
   "outputs": [
    {
     "data": {
      "text/html": [
       "<div>\n",
       "<style scoped>\n",
       "    .dataframe tbody tr th:only-of-type {\n",
       "        vertical-align: middle;\n",
       "    }\n",
       "\n",
       "    .dataframe tbody tr th {\n",
       "        vertical-align: top;\n",
       "    }\n",
       "\n",
       "    .dataframe thead th {\n",
       "        text-align: right;\n",
       "    }\n",
       "</style>\n",
       "<table border=\"1\" class=\"dataframe\">\n",
       "  <thead>\n",
       "    <tr style=\"text-align: right;\">\n",
       "      <th></th>\n",
       "      <th>Unnamed: 0</th>\n",
       "      <th>Company_Brand</th>\n",
       "      <th>Founded</th>\n",
       "      <th>HeadQuarter</th>\n",
       "      <th>Sector</th>\n",
       "      <th>What_it_does</th>\n",
       "      <th>Founders</th>\n",
       "      <th>Investor</th>\n",
       "      <th>Amount</th>\n",
       "      <th>Stage</th>\n",
       "      <th>column10</th>\n",
       "    </tr>\n",
       "  </thead>\n",
       "  <tbody>\n",
       "  </tbody>\n",
       "</table>\n",
       "</div>"
      ],
      "text/plain": [
       "Empty DataFrame\n",
       "Columns: [Unnamed: 0, Company_Brand, Founded, HeadQuarter, Sector, What_it_does, Founders, Investor, Amount, Stage, column10]\n",
       "Index: []"
      ]
     },
     "execution_count": 129,
     "metadata": {},
     "output_type": "execute_result"
    }
   ],
   "source": [
    "df_2020.head(0)"
   ]
  },
  {
   "cell_type": "code",
   "execution_count": 130,
   "metadata": {
    "tags": []
   },
   "outputs": [
    {
     "data": {
      "text/html": [
       "<div>\n",
       "<style scoped>\n",
       "    .dataframe tbody tr th:only-of-type {\n",
       "        vertical-align: middle;\n",
       "    }\n",
       "\n",
       "    .dataframe tbody tr th {\n",
       "        vertical-align: top;\n",
       "    }\n",
       "\n",
       "    .dataframe thead th {\n",
       "        text-align: right;\n",
       "    }\n",
       "</style>\n",
       "<table border=\"1\" class=\"dataframe\">\n",
       "  <thead>\n",
       "    <tr style=\"text-align: right;\">\n",
       "      <th></th>\n",
       "      <th>Unnamed: 0</th>\n",
       "      <th>Company_Brand</th>\n",
       "      <th>Founded</th>\n",
       "      <th>HeadQuarter</th>\n",
       "      <th>Sector</th>\n",
       "      <th>What_it_does</th>\n",
       "      <th>Founders</th>\n",
       "      <th>Investor</th>\n",
       "      <th>Amount</th>\n",
       "      <th>Stage</th>\n",
       "    </tr>\n",
       "  </thead>\n",
       "  <tbody>\n",
       "  </tbody>\n",
       "</table>\n",
       "</div>"
      ],
      "text/plain": [
       "Empty DataFrame\n",
       "Columns: [Unnamed: 0, Company_Brand, Founded, HeadQuarter, Sector, What_it_does, Founders, Investor, Amount, Stage]\n",
       "Index: []"
      ]
     },
     "execution_count": 130,
     "metadata": {},
     "output_type": "execute_result"
    }
   ],
   "source": [
    "df_2021.head(0)"
   ]
  },
  {
   "cell_type": "code",
   "execution_count": 131,
   "metadata": {
    "tags": []
   },
   "outputs": [
    {
     "data": {
      "text/html": [
       "<div>\n",
       "<style scoped>\n",
       "    .dataframe tbody tr th:only-of-type {\n",
       "        vertical-align: middle;\n",
       "    }\n",
       "\n",
       "    .dataframe tbody tr th {\n",
       "        vertical-align: top;\n",
       "    }\n",
       "\n",
       "    .dataframe thead th {\n",
       "        text-align: right;\n",
       "    }\n",
       "</style>\n",
       "<table border=\"1\" class=\"dataframe\">\n",
       "  <thead>\n",
       "    <tr style=\"text-align: right;\">\n",
       "      <th></th>\n",
       "      <th>Company Brand</th>\n",
       "      <th>Sector</th>\n",
       "      <th>Stage</th>\n",
       "      <th>Amount</th>\n",
       "      <th>Location</th>\n",
       "      <th>What it does?</th>\n",
       "      <th>Year</th>\n",
       "      <th>Founded</th>\n",
       "      <th>Founders</th>\n",
       "      <th>Investor</th>\n",
       "    </tr>\n",
       "  </thead>\n",
       "  <tbody>\n",
       "    <tr>\n",
       "      <th>0</th>\n",
       "      <td>TheCollegeFever</td>\n",
       "      <td>Brand Marketing, Event Promotion, Marketing, S...</td>\n",
       "      <td>Seed</td>\n",
       "      <td>250000</td>\n",
       "      <td>Bangalore, Karnataka, India</td>\n",
       "      <td>TheCollegeFever is a hub for fun, fiesta and f...</td>\n",
       "      <td>2018</td>\n",
       "      <td>NaN</td>\n",
       "      <td>NaN</td>\n",
       "      <td>NaN</td>\n",
       "    </tr>\n",
       "    <tr>\n",
       "      <th>1</th>\n",
       "      <td>Happy Cow Dairy</td>\n",
       "      <td>Agriculture, Farming</td>\n",
       "      <td>Seed</td>\n",
       "      <td>₹40,000,000</td>\n",
       "      <td>Mumbai, Maharashtra, India</td>\n",
       "      <td>A startup which aggregates milk from dairy far...</td>\n",
       "      <td>2018</td>\n",
       "      <td>NaN</td>\n",
       "      <td>NaN</td>\n",
       "      <td>NaN</td>\n",
       "    </tr>\n",
       "  </tbody>\n",
       "</table>\n",
       "</div>"
      ],
      "text/plain": [
       "     Company Brand                                             Sector Stage  \\\n",
       "0  TheCollegeFever  Brand Marketing, Event Promotion, Marketing, S...  Seed   \n",
       "1  Happy Cow Dairy                               Agriculture, Farming  Seed   \n",
       "\n",
       "        Amount                     Location  \\\n",
       "0       250000  Bangalore, Karnataka, India   \n",
       "1  ₹40,000,000   Mumbai, Maharashtra, India   \n",
       "\n",
       "                                       What it does?  Year  Founded Founders  \\\n",
       "0  TheCollegeFever is a hub for fun, fiesta and f...  2018      NaN      NaN   \n",
       "1  A startup which aggregates milk from dairy far...  2018      NaN      NaN   \n",
       "\n",
       "  Investor  \n",
       "0      NaN  \n",
       "1      NaN  "
      ]
     },
     "execution_count": 131,
     "metadata": {},
     "output_type": "execute_result"
    }
   ],
   "source": [
    "df_2018 = df_2018.rename(columns={'Company Name': 'Company Brand', 'Industry': 'Sector', 'Round/Series': 'Stage', 'About Company': 'What it does?'})\n",
    "df_2019 = df_2019.rename(columns={'Company/Brand': 'Company Brand', 'HeadQuarter': 'Location', 'What it does': 'What it does?', 'Amount($)':'Amount'})\n",
    "df_2020 = df_2020.rename(columns={'Company_Brand': 'Company Brand', 'HeadQuarter': 'Location', 'What_it_does': 'What it does?'})\n",
    "df_2021 = df_2021.rename(columns={'Company_Brand': 'Company Brand', 'HeadQuarter': 'Location', 'What_it_does': 'What it does?'})\n",
    "df_2020 = df_2020.drop(['Unnamed: 0', 'column10'], axis=1) # Drop 'Unnamed: 0' und 'column 10'\n",
    "df_2021 = df_2021.drop(['Unnamed: 0'], axis=1)\n",
    "df_2018['Year'] = 2018 # Add a 'Year' column to each DataFrame\n",
    "df_2019['Year'] = 2019\n",
    "df_2020['Year'] = 2020\n",
    "df_2021['Year'] = 2021\n",
    "df_concat = pd.concat([df_2018, df_2019, df_2020, df_2021], ignore_index=True) # Concatenate\n",
    "df_concat.head(2)"
   ]
  },
  {
   "cell_type": "code",
   "execution_count": 132,
   "metadata": {
    "tags": []
   },
   "outputs": [
    {
     "data": {
      "text/plain": [
       "23"
      ]
     },
     "execution_count": 132,
     "metadata": {},
     "output_type": "execute_result"
    }
   ],
   "source": [
    "df_concat.duplicated().sum()"
   ]
  },
  {
   "cell_type": "code",
   "execution_count": 133,
   "metadata": {
    "tags": []
   },
   "outputs": [
    {
     "name": "stdout",
     "output_type": "stream",
     "text": [
      "<class 'pandas.core.frame.DataFrame'>\n",
      "Index: 2856 entries, 0 to 2878\n",
      "Data columns (total 10 columns):\n",
      " #   Column         Non-Null Count  Dtype  \n",
      "---  ------         --------------  -----  \n",
      " 0   Company Brand  2856 non-null   object \n",
      " 1   Sector         2838 non-null   object \n",
      " 2   Stage          1927 non-null   object \n",
      " 3   Amount         2598 non-null   object \n",
      " 4   Location       2742 non-null   object \n",
      " 5   What it does?  2856 non-null   object \n",
      " 6   Year           2856 non-null   int64  \n",
      " 7   Founded        2088 non-null   float64\n",
      " 8   Founders       2312 non-null   object \n",
      " 9   Investor       2232 non-null   object \n",
      "dtypes: float64(1), int64(1), object(8)\n",
      "memory usage: 245.4+ KB\n"
     ]
    }
   ],
   "source": [
    "df_concat.drop_duplicates().info()"
   ]
  },
  {
   "cell_type": "code",
   "execution_count": 134,
   "metadata": {
    "tags": []
   },
   "outputs": [
    {
     "data": {
      "text/plain": [
       "Company Brand      0\n",
       "Sector            18\n",
       "Stage            938\n",
       "Amount           259\n",
       "Location         114\n",
       "What it does?      0\n",
       "Year               0\n",
       "Founded          769\n",
       "Founders         545\n",
       "Investor         626\n",
       "dtype: int64"
      ]
     },
     "execution_count": 134,
     "metadata": {},
     "output_type": "execute_result"
    }
   ],
   "source": [
    "df_concat.isnull().sum()"
   ]
  },
  {
   "cell_type": "code",
   "execution_count": 135,
   "metadata": {
    "tags": []
   },
   "outputs": [
    {
     "data": {
      "text/html": [
       "<div>\n",
       "<style scoped>\n",
       "    .dataframe tbody tr th:only-of-type {\n",
       "        vertical-align: middle;\n",
       "    }\n",
       "\n",
       "    .dataframe tbody tr th {\n",
       "        vertical-align: top;\n",
       "    }\n",
       "\n",
       "    .dataframe thead th {\n",
       "        text-align: right;\n",
       "    }\n",
       "</style>\n",
       "<table border=\"1\" class=\"dataframe\">\n",
       "  <thead>\n",
       "    <tr style=\"text-align: right;\">\n",
       "      <th></th>\n",
       "      <th>Company Brand</th>\n",
       "      <th>Sector</th>\n",
       "      <th>Stage</th>\n",
       "      <th>Amount</th>\n",
       "      <th>Location</th>\n",
       "      <th>What it does?</th>\n",
       "      <th>Year</th>\n",
       "      <th>Founded</th>\n",
       "      <th>Founders</th>\n",
       "      <th>Investor</th>\n",
       "    </tr>\n",
       "  </thead>\n",
       "  <tbody>\n",
       "    <tr>\n",
       "      <th>0</th>\n",
       "      <td>TheCollegeFever</td>\n",
       "      <td>Brand Marketing, Event Promotion, Marketing, S...</td>\n",
       "      <td>Seed</td>\n",
       "      <td>250000</td>\n",
       "      <td>Bangalore, Karnataka, India</td>\n",
       "      <td>TheCollegeFever is a hub for fun, fiesta and f...</td>\n",
       "      <td>2018</td>\n",
       "      <td>NaN</td>\n",
       "      <td>Unknown</td>\n",
       "      <td>Unknown</td>\n",
       "    </tr>\n",
       "    <tr>\n",
       "      <th>1</th>\n",
       "      <td>Happy Cow Dairy</td>\n",
       "      <td>Agriculture, Farming</td>\n",
       "      <td>Seed</td>\n",
       "      <td>₹40,000,000</td>\n",
       "      <td>Mumbai, Maharashtra, India</td>\n",
       "      <td>A startup which aggregates milk from dairy far...</td>\n",
       "      <td>2018</td>\n",
       "      <td>NaN</td>\n",
       "      <td>Unknown</td>\n",
       "      <td>Unknown</td>\n",
       "    </tr>\n",
       "  </tbody>\n",
       "</table>\n",
       "</div>"
      ],
      "text/plain": [
       "     Company Brand                                             Sector Stage  \\\n",
       "0  TheCollegeFever  Brand Marketing, Event Promotion, Marketing, S...  Seed   \n",
       "1  Happy Cow Dairy                               Agriculture, Farming  Seed   \n",
       "\n",
       "        Amount                     Location  \\\n",
       "0       250000  Bangalore, Karnataka, India   \n",
       "1  ₹40,000,000   Mumbai, Maharashtra, India   \n",
       "\n",
       "                                       What it does?  Year  Founded Founders  \\\n",
       "0  TheCollegeFever is a hub for fun, fiesta and f...  2018      NaN  Unknown   \n",
       "1  A startup which aggregates milk from dairy far...  2018      NaN  Unknown   \n",
       "\n",
       "  Investor  \n",
       "0  Unknown  \n",
       "1  Unknown  "
      ]
     },
     "execution_count": 135,
     "metadata": {},
     "output_type": "execute_result"
    }
   ],
   "source": [
    "columns_to_fill = ['Sector', 'Stage', 'Location', 'What it does?', 'Founders', 'Investor']# List of columns to fill \n",
    "df_concat[columns_to_fill] = df_concat[columns_to_fill].fillna('Unknown') #Fill missing values with \"Unknown\"\n",
    "df_concat.head(2)"
   ]
  },
  {
   "cell_type": "code",
   "execution_count": null,
   "metadata": {},
   "outputs": [],
   "source": [
    "sorted_values = sorted(df_concat['Sector'].unique())\n",
    "print(sorted_values[:50])"
   ]
  },
  {
   "cell_type": "code",
   "execution_count": 136,
   "metadata": {
    "tags": []
   },
   "outputs": [
    {
     "name": "stdout",
     "output_type": "stream",
     "text": [
      "['3D Printing, Manufacturing, Product Design', 'AI', 'AI & Data science', 'AI & Debt', 'AI & Deep learning', 'AI & Media', 'AI & Tech', 'AI Chatbot', 'AI Company', 'AI Platform', 'AI Robotics', 'AI Startup', 'AI company', 'AI health', 'AI platform', 'AI startup', 'API platform', 'AR platform', 'AR startup', 'AR/VR', 'AR/VR startup', 'Accomodation', 'Accounting, Apps, FinTech', 'Accounting, Banking, Finance', 'Accounting, Business Information Systems, Business Travel, Finance, SaaS', 'Ad-tech', 'Advertisement', 'Advertising, Artificial Intelligence, Digital Media, iOS, Location Based Services, News, Video, Video on Demand, Video Streaming', 'Advertising, Consulting, Digital Marketing', 'Advertising, Human Resources, Marketing', 'Advertising, Internet, Marketing', 'Advisory firm', 'Aero company', 'Aerospace', 'AgTech, B2B, Supply Chain Management', 'Agri Tech', 'Agri tech', 'AgriTech', 'Agriculture', 'Agriculture, AgTech, Artificial Intelligence, Internet of Things, Machine Learning', 'Agriculture, AgTech, Manufacturing', 'Agriculture, Analytics, Big Data, Farming', 'Agriculture, Farmers Market, Farming', 'Agriculture, Farming', 'Agriculture, Mobile', 'Agritech startup', 'Air Transportation, Freight Service, Logistics, Marine Transportation', 'Alternative Medicine, Health Care', 'Analytics', 'Analytics, Apps, Market Research']\n"
     ]
    }
   ],
   "source": [
    "replacements = {'Aeorspace: Aerospace','Aero Company: Aerospace','Agritech: Agri Tech','Agritech Startup: Agri Tech','Agritech/Commerce: Agri Tech','Ai: Artificial Intelligence','Automation: Automation Tech',\n",
    "    'Automobile &Technology: Automobile Technology', 'Automobiles: Automobile Technology','Automotive: Automobile Technology',\n",
    "    'Automotive Company: Automobile Technology','Automotive Startup: Automobile Technology','Automotive Tech: Automobile Technology',\n",
    "    'Biotech: Biotechnology','Biotechnology Company: Biotechnology','Blockchain: Blockchain Startup','Construction Tech: Construction','Consulting: Consultancy','Deep Tech Ai: Deep Tech','Deeptech: Deep Tech',\n",
    "    'Deeptech Startup: Deep Tech','Ecommerce:E-Commerce','Edtech Startup: Edtech','Edttech: Edtech','Eye Wear: Eyewear','Eyeglasses: Eyewear',\n",
    "    'Eyewear, Internet: Eyewear','Foodtech: Food Tech','Foodtech & Logistics: Food Tech','Gaming: Games','Gaming Startup: Games',\n",
    "    'Healtcare: Healthcare','Health: Healthcare','Health Care: Healthcare','Healthtech: Health Tech','Heathcare: Healthcare',\n",
    "    'Heathtech: Health Tech','Hr Tech Startup: Hr Tech','Hrtech: Hr Tech','Hr:Human Resources','Insurance Technology: Insurance Tech',\n",
    "    'Insuretech: Insurance Tech','Insurtech: Insurance Tech','It: IT Startup','It Company: IT Startup','It Startup: IT Startup','Jewellery Startup: Jewelry','Legaltech: Legal Tech'}\n",
    "df_concat['Sector'] = df_concat['Sector'].replace({\n",
    "    value.split(': ')[0]: value.split(': ')[1] if len(value.split(': ')) > 1 else value\n",
    "    for value in replacements})\n",
    "sorted_values = sorted(df_concat['Sector'].unique())\n",
    "print(sorted_values[:50])"
   ]
  },
  {
   "cell_type": "code",
   "execution_count": null,
   "metadata": {},
   "outputs": [],
   "source": []
  },
  {
   "cell_type": "code",
   "execution_count": 137,
   "metadata": {
    "tags": []
   },
   "outputs": [
    {
     "data": {
      "text/plain": [
       "Company Brand      0\n",
       "Sector             0\n",
       "Stage              0\n",
       "Amount           567\n",
       "Location           0\n",
       "What it does?      0\n",
       "Year               0\n",
       "Founded          769\n",
       "Founders           0\n",
       "Investor           0\n",
       "dtype: int64"
      ]
     },
     "execution_count": 137,
     "metadata": {},
     "output_type": "execute_result"
    }
   ],
   "source": [
    "def convert_to_usd(row):\n",
    "    try:\n",
    "        amount = row['Amount']\n",
    "        year = row['Year']        \n",
    "        if isinstance(amount, (int, float)):  # Check if amount is already a number\n",
    "            return float(amount)\n",
    "        if '₹' in str(amount): # If the amount contains '₹', remove it and convert to float\n",
    "            amount = str(amount).replace('₹', '').replace(',', '')\n",
    "            exchange_rate = {2018: 68.5, 2019: 70.4,2020: 74.3, 2021: 73.9}\n",
    "            return float(amount) / exchange_rate.get(year, 1.0) # Convert to float and divide by the corresponding exchange rate\n",
    "        elif '$' in str(amount):  # If the amount contains '$', remove it and convert to float\n",
    "            amount = str(amount).replace('$', '').replace(',', '')\n",
    "            return float(amount)\n",
    "        elif ',' in str(amount):  # If the amount is just a number with commas, remove commas and convert to float\n",
    "            amount = str(amount).replace(',', '')\n",
    "            return float(amount)\n",
    "        elif pd.to_numeric(amount, errors='coerce') is np.nan or pd.isna(pd.to_numeric(amount, errors='coerce')):\n",
    "            return np.nan  # If the amount is '—' or any other non-numeric value, return NaN\n",
    "        else:  # If the amount is already in dollars, return it as is\n",
    "            return float(amount)    \n",
    "    except ValueError:\n",
    "        return np.nan\n",
    "df_concat['Amount'] = df_concat.apply(convert_to_usd, axis=1)\n",
    "df_concat.isnull().sum()"
   ]
  },
  {
   "cell_type": "code",
   "execution_count": 138,
   "metadata": {
    "tags": []
   },
   "outputs": [
    {
     "data": {
      "text/html": [
       "<div>\n",
       "<style scoped>\n",
       "    .dataframe tbody tr th:only-of-type {\n",
       "        vertical-align: middle;\n",
       "    }\n",
       "\n",
       "    .dataframe tbody tr th {\n",
       "        vertical-align: top;\n",
       "    }\n",
       "\n",
       "    .dataframe thead th {\n",
       "        text-align: right;\n",
       "    }\n",
       "</style>\n",
       "<table border=\"1\" class=\"dataframe\">\n",
       "  <thead>\n",
       "    <tr style=\"text-align: right;\">\n",
       "      <th></th>\n",
       "      <th>Company Brand</th>\n",
       "      <th>Sector</th>\n",
       "      <th>Stage</th>\n",
       "      <th>Amount</th>\n",
       "      <th>Location</th>\n",
       "      <th>What it does?</th>\n",
       "      <th>Year</th>\n",
       "      <th>Founded</th>\n",
       "      <th>Founders</th>\n",
       "      <th>Investor</th>\n",
       "    </tr>\n",
       "  </thead>\n",
       "  <tbody>\n",
       "    <tr>\n",
       "      <th>0</th>\n",
       "      <td>TheCollegeFever</td>\n",
       "      <td>Brand Marketing, Event Promotion, Marketing, S...</td>\n",
       "      <td>Seed</td>\n",
       "      <td>250000.000000</td>\n",
       "      <td>Bangalore, Karnataka, India</td>\n",
       "      <td>TheCollegeFever is a hub for fun, fiesta and f...</td>\n",
       "      <td>2018</td>\n",
       "      <td>NaN</td>\n",
       "      <td>Unknown</td>\n",
       "      <td>Unknown</td>\n",
       "    </tr>\n",
       "    <tr>\n",
       "      <th>1</th>\n",
       "      <td>Happy Cow Dairy</td>\n",
       "      <td>Agriculture, Farming</td>\n",
       "      <td>Seed</td>\n",
       "      <td>583941.605839</td>\n",
       "      <td>Mumbai, Maharashtra, India</td>\n",
       "      <td>A startup which aggregates milk from dairy far...</td>\n",
       "      <td>2018</td>\n",
       "      <td>NaN</td>\n",
       "      <td>Unknown</td>\n",
       "      <td>Unknown</td>\n",
       "    </tr>\n",
       "  </tbody>\n",
       "</table>\n",
       "</div>"
      ],
      "text/plain": [
       "     Company Brand                                             Sector Stage  \\\n",
       "0  TheCollegeFever  Brand Marketing, Event Promotion, Marketing, S...  Seed   \n",
       "1  Happy Cow Dairy                               Agriculture, Farming  Seed   \n",
       "\n",
       "          Amount                     Location  \\\n",
       "0  250000.000000  Bangalore, Karnataka, India   \n",
       "1  583941.605839   Mumbai, Maharashtra, India   \n",
       "\n",
       "                                       What it does?  Year  Founded Founders  \\\n",
       "0  TheCollegeFever is a hub for fun, fiesta and f...  2018      NaN  Unknown   \n",
       "1  A startup which aggregates milk from dairy far...  2018      NaN  Unknown   \n",
       "\n",
       "  Investor  \n",
       "0  Unknown  \n",
       "1  Unknown  "
      ]
     },
     "execution_count": 138,
     "metadata": {},
     "output_type": "execute_result"
    }
   ],
   "source": [
    "columns_to_fill = ['Sector', 'Stage', 'Location', 'What it does?', 'Founders', 'Investor']# List of columns to fill \n",
    "df_concat[columns_to_fill] = df_concat[columns_to_fill].fillna('Unknown') #Fill missing values with \"Unknown\"\n",
    "df_concat.head(2)"
   ]
  },
  {
   "cell_type": "code",
   "execution_count": 139,
   "metadata": {
    "tags": []
   },
   "outputs": [
    {
     "name": "stdout",
     "output_type": "stream",
     "text": [
      "Skewness: 39.323175999172996\n",
      "Kurtosis: 1625.0733543494068\n"
     ]
    }
   ],
   "source": [
    "amount_data = df_concat['Amount'].dropna()  # Drop NaN values if any\n",
    "skewness = skew(amount_data)\n",
    "kurt = kurtosis(amount_data)\n",
    "print(f'Skewness: {skewness}')\n",
    "print(f'Kurtosis: {kurt}')"
   ]
  },
  {
   "cell_type": "markdown",
   "metadata": {},
   "source": [
    "The skewness value of 39.32 indicates that 'Amount' column is highly skewed. Skewness value significantly different from 0 suggests non-normality. The kurtosis value of 1625.07 is exceptionally high. Positive kurtosis indicates heavy tails and a more peaked distribution compared to a normal distribution. In this case, it suggests that there are extreme values in the tails of the distribution. This implies the data is susciptible to outliers. Interpolation techniques, including linear interpolation, may not be the best choice for highly skewed data with outliers. Median Imputation, Transformations (logarithmic or Box-Cox), Train a model or multiple imputation techniques may be used instead.A skewness value of 39.32 indicates an extremely high level of skewness in the data. In such cases, using the median for imputation can be a reasonable choice, especially when dealing with skewed distributions or data containing outliers.\n",
    "\n",
    "The median is less sensitive to extreme values (outliers) compared to the mean, making it a more robust measure of central tendency for highly skewed distributions. Imputing missing values with the median can help maintain the integrity of the distribution, especially when the data is not normally distributed."
   ]
  },
  {
   "cell_type": "code",
   "execution_count": 140,
   "metadata": {
    "tags": []
   },
   "outputs": [],
   "source": [
    "imputer = SimpleImputer(strategy='median')  # You can use other strategies like 'median' or 'most_frequent'\n",
    "df_concat['Amount'] = imputer.fit_transform(df_concat[['Amount']]) # Apply imputed values"
   ]
  },
  {
   "cell_type": "code",
   "execution_count": 141,
   "metadata": {
    "tags": []
   },
   "outputs": [
    {
     "data": {
      "text/html": [
       "<div>\n",
       "<style scoped>\n",
       "    .dataframe tbody tr th:only-of-type {\n",
       "        vertical-align: middle;\n",
       "    }\n",
       "\n",
       "    .dataframe tbody tr th {\n",
       "        vertical-align: top;\n",
       "    }\n",
       "\n",
       "    .dataframe thead th {\n",
       "        text-align: right;\n",
       "    }\n",
       "</style>\n",
       "<table border=\"1\" class=\"dataframe\">\n",
       "  <thead>\n",
       "    <tr style=\"text-align: right;\">\n",
       "      <th></th>\n",
       "      <th>Company Brand</th>\n",
       "      <th>Sector</th>\n",
       "      <th>Stage</th>\n",
       "      <th>Amount</th>\n",
       "      <th>Location</th>\n",
       "      <th>What it does?</th>\n",
       "      <th>Year</th>\n",
       "      <th>Founded</th>\n",
       "      <th>Founders</th>\n",
       "      <th>Investor</th>\n",
       "    </tr>\n",
       "  </thead>\n",
       "  <tbody>\n",
       "    <tr>\n",
       "      <th>0</th>\n",
       "      <td>TheCollegeFever</td>\n",
       "      <td>Brand Marketing, Event Promotion, Marketing, S...</td>\n",
       "      <td>Seed</td>\n",
       "      <td>250000.000000</td>\n",
       "      <td>Bangalore, Karnataka, India</td>\n",
       "      <td>Thecollegefever Is A Hub For Fun, Fiesta And F...</td>\n",
       "      <td>2018</td>\n",
       "      <td>NaN</td>\n",
       "      <td>Unknown</td>\n",
       "      <td>Unknown</td>\n",
       "    </tr>\n",
       "    <tr>\n",
       "      <th>1</th>\n",
       "      <td>Happy Cow Dairy</td>\n",
       "      <td>Agriculture, Farming</td>\n",
       "      <td>Seed</td>\n",
       "      <td>583941.605839</td>\n",
       "      <td>Mumbai, Maharashtra, India</td>\n",
       "      <td>A Startup Which Aggregates Milk From Dairy Far...</td>\n",
       "      <td>2018</td>\n",
       "      <td>NaN</td>\n",
       "      <td>Unknown</td>\n",
       "      <td>Unknown</td>\n",
       "    </tr>\n",
       "  </tbody>\n",
       "</table>\n",
       "</div>"
      ],
      "text/plain": [
       "     Company Brand                                             Sector Stage  \\\n",
       "0  TheCollegeFever  Brand Marketing, Event Promotion, Marketing, S...  Seed   \n",
       "1  Happy Cow Dairy                               Agriculture, Farming  Seed   \n",
       "\n",
       "          Amount                     Location  \\\n",
       "0  250000.000000  Bangalore, Karnataka, India   \n",
       "1  583941.605839   Mumbai, Maharashtra, India   \n",
       "\n",
       "                                       What it does?  Year  Founded Founders  \\\n",
       "0  Thecollegefever Is A Hub For Fun, Fiesta And F...  2018      NaN  Unknown   \n",
       "1  A Startup Which Aggregates Milk From Dairy Far...  2018      NaN  Unknown   \n",
       "\n",
       "  Investor  \n",
       "0  Unknown  \n",
       "1  Unknown  "
      ]
     },
     "execution_count": 141,
     "metadata": {},
     "output_type": "execute_result"
    }
   ],
   "source": [
    "# List of columns to format\n",
    "columns_to_format = ['Sector', 'Stage', 'Location', 'What it does?', 'Founders', 'Investor']\n",
    "for column in columns_to_format: # Apply the formatting to each specified column\n",
    "    df_concat[column] = df_concat[column].str.title()\n",
    "df_concat.head(2)"
   ]
  },
  {
   "cell_type": "code",
   "execution_count": 142,
   "metadata": {
    "tags": []
   },
   "outputs": [
    {
     "name": "stdout",
     "output_type": "stream",
     "text": [
      "['Ahmadabad', 'Ahmedabad', 'Ahmedabad, Gujarat, India', 'Alleppey, Kerala, India', 'Alwar, Rajasthan, India', 'Ambernath', 'Anand, Gujarat, India', 'Andheri', 'Andheri, Maharashtra, India', 'Azadpur, Delhi, India', 'Bangaldesh', 'Bangalore', 'Bangalore City, Karnataka, India', 'Bangalore, Karnataka, India', 'Bangkok', 'Banglore', 'Beijing', 'Belgaum', 'Belgaum, Karnataka, India', 'Bengaluru', 'Bengaluru, Karnataka, India', 'Berlin', 'Bhilwara', 'Bhopal', 'Bhopal, Madhya Pradesh, India', 'Bhubaneswar', 'Bihar', 'California', 'Chandigarh', 'Chandigarh, Chandigarh, India', 'Chennai', 'Chennai, Tamil Nadu, India', 'Cochin', 'Cochin, Kerala, India', 'Coimbatore', 'Coimbatore, Tamil Nadu, India', 'Computer Games', 'Dehradun', 'Delhi', 'Delhi, Delhi, India', 'Dhingsara, Haryana', 'Ernakulam, Kerala, India', 'Faridabad', 'Faridabad, Haryana', 'Faridabad, Haryana, India', 'Food & Beverages', 'France', 'Frisco, Texas, United States', 'Gandhinagar', 'Ghaziabad', 'Ghaziabad, Uttar Pradesh, India', 'Goa', 'Guindy, Tamil Nadu, India', 'Gujarat', 'Guntur, Andhra Pradesh, India', 'Gurgaon', 'Gurgaon, Haryana, India', 'Gurugram', 'Gurugram\\t#Ref!', 'Guwahati', 'Haryana', 'Haryana, Haryana, India', 'Hubli, Karnataka, India', 'Hyderabad', 'Hyderabad, Andhra Pradesh, India', 'Hyderebad', 'India, Asia', 'Indore', 'Indore, Madhya Pradesh, India', 'Information Technology & Services', 'Irvine, California, United States', 'Jaipur', 'Jaipur, Rajastan', 'Jaipur, Rajasthan, India', 'Jharkhand', 'Jiaxing, Zhejiang, China', 'Jodhpur', 'Jodhpur, Rajasthan, India', 'Kalkaji, Delhi, India', 'Kalpakkam, Tamil Nadu, India', 'Kannur, Kerala, India', 'Kanpur', 'Kanpur, Uttar Pradesh, India', 'Kerala', 'Kochi', 'Kochi, Kerala, India', 'Kolkata', 'Kolkata, West Bengal, India', 'Kormangala, Karnataka, India', 'Kota, Rajasthan, India', 'Kottayam', 'London', 'London, England, United Kingdom', 'Lucknow', 'Lucknow, Uttar Pradesh, India', 'Ludhiana', 'Mangalore', 'Margão, Goa, India', 'Milano, Lombardia, Italy', 'Mohali', 'Mohali, Punjab, India', 'Mountain View, Ca', 'Mumbai', 'Mumbai, Maharashtra, India', 'Mylapore, Tamil Nadu, India', 'Nagpur', 'New Delhi', 'New Delhi, Delhi, India', 'New York', 'New York, United States', 'Newcastle Upon Tyne, Newcastle Upon Tyne, United Kingdom', 'Noida', 'Noida, Uttar Pradesh, India', 'Odisha', 'Online Media\\t#Ref!', 'Orissia', 'Palmwoods, Queensland, Australia', 'Panaji', 'Panchkula', 'Paris, Ile-De-France, France', 'Patna', 'Pharmaceuticals\\t#Ref!', 'Plano, Texas, United States', 'Powai', 'Powai, Assam, India', 'Pune', 'Pune, Maharashtra, India', 'Rajastan', 'Rajasthan', 'Rajsamand', 'Ranchi', 'Riyadh', 'Roorkee', 'Samastipur, Bihar', 'Samsitpur', 'San Franciscao', 'San Francisco', 'San Francisco Bay Area, Silicon Valley, West Coast', 'San Francisco Bay Area, West Coast, Western Us', 'San Francisco, California, United States', 'San Francisco, United States', 'San Ramon, California', 'Santra', 'Satara', 'Seattle', 'Seoul', 'Shanghai, China', 'Silvassa', 'Singapore', 'Small Towns, Andhra Pradesh', 'Surat', 'Sydney', 'Sydney, New South Wales, Australia', 'Tamil Nadu', 'Tangerang, Jawa Barat, Indonesia', 'Telangana', 'Telugana', 'Thane', 'Thane, Maharashtra, India', 'The Nilgiris', 'Thiruvananthapuram', 'Tirunelveli, Tamilnadu', 'Trivandrum', 'Trivandrum, Kerala, India', 'Tumkur, Karnataka', 'Unknown', 'Uttar Pradesh', 'Uttar Pradesh, India, Asia', 'Vadodara', 'Warangal', 'West Bengal', 'Worli, Maharashtra, India']\n"
     ]
    }
   ],
   "source": [
    "sorted_values = sorted(df_concat['Location'].unique())\n",
    "print(sorted_values[:])"
   ]
  },
  {
   "cell_type": "code",
   "execution_count": 153,
   "metadata": {
    "tags": []
   },
   "outputs": [
    {
     "name": "stdout",
     "output_type": "stream",
     "text": [
      "['Ahmedabad', 'Alleppey, Kerala, India', 'Alwar, Rajasthan, India', 'Ambernath', 'Anand, Gujarat, India', 'Andheri', 'Azadpur, Delhi, India', 'Bangaldesh', 'Bangalore', 'Bangkok', 'Beijing', 'Belgaum', 'Belgaum, Karnataka, India', 'Bengaluru', 'Berlin', 'Bhilwara', 'Bhopal', 'Bhubaneswar', 'Bihar', 'California', 'Chandigarh', 'Chennai', 'Cochin', 'Coimbatore', 'Computer Games', 'Dehradun', 'Delhi', 'Dhingsara, Haryana', 'Ernakulam, Kerala, India', 'Faridabad', 'Food & Beverages', 'France', 'Frisco, Texas, United States', 'Gandhinagar', 'Ghaziabad', 'Ghaziabad, Uttar Pradesh, India', 'Goa', 'Guindy, Tamil Nadu, India', 'Gujarat', 'Guntur, Andhra Pradesh, India', 'Gurgaon', 'Gurugram', 'Gurugram\\t#Ref!', 'Guwahati', 'Haryana', 'Haryana, Haryana, India', 'Hubli, Karnataka, India', 'Hyderabad', 'India, Asia', 'Indore', 'Information Technology & Services', 'Irvine, California, United States', 'Jaipur', 'Jharkhand', 'Jiaxing, Zhejiang, China', 'Jodhpur', 'Kalkaji, Delhi, India', 'Kalpakkam, Tamil Nadu, India', 'Kanpur', 'Kerala', 'Kochi', 'Kolkata', 'Kormangala, Karnataka, India', 'Kota, Rajasthan, India', 'Kottayam', 'London', 'Lucknow', 'Ludhiana', 'Mangalore', 'Margão, Goa, India', 'Milano, Lombardia, Italy', 'Mohali', 'Mountain View, Ca', 'Mumbai', 'Mylapore, Tamil Nadu, India', 'Nagpur', 'New Delhi', 'New York', 'Newcastle Upon Tyne, United Kingdom', 'Noida', 'Odisha', 'Online Media\\t#Ref!', 'Orissia', 'Palmwoods, Queensland, Australia', 'Panaji', 'Panchkula', 'Paris, Ile-De-France, France', 'Patna', 'Pharmaceuticals\\t#Ref!', 'Plano, Texas, United States', 'Powai', 'Pune', 'Rajastan', 'Rajasthan', 'Rajsamand', 'Ranchi', 'Riyadh', 'Roorkee', 'Samastipur', 'Samsitpur', 'San Francisco', 'San Ramon, California', 'Satara', 'Seattle', 'Seoul', 'Shanghai, China', 'Silvassa', 'Singapore', 'Small Towns, Andhra Pradesh', 'Surat', 'Sydney', 'Tamil Nadu', 'Tangerang, Jawa Barat, Indonesia', 'Telangana', 'Thane', 'The Nilgiris', 'Thiruvananthapuram', 'Tirunelveli, Tamilnadu', 'Trivandrum', 'Tumkur, Karnataka', 'Unknown', 'Uttar Pradesh', 'Uttar Pradesh, India, Asia', 'Vadodara', 'Warangal', 'West Bengal', 'Worli, Maharashtra, India']\n"
     ]
    }
   ],
   "source": [
    "corrections = {'Ahmadabad': 'Ahmedabad','Ahmedabad, Gujarat, India': 'Ahmedabad','Andheri, Maharashtra, India': 'Andheri','Bangalore City, Karnataka, India': 'Bangalore', 'Bangalore, Karnataka, India': 'Bangalore','Banglore': 'Bangalore','Bengaluru, Karnataka, India': 'Bengaluru',\n",
    "    'Bhopal, Madhya Pradesh, India': 'Bhopal','Chandigarh, Chandigarh, India': 'Chandigarh','Chennai, Tamil Nadu, India': 'Chennai','Cochin, Kerala, India': 'Cochin','Coimbatore, Tamil Nadu, India': 'Coimbatore','Computer GamesP Coimbatore': 'Coimbatore',  'Delhi, Delhi, India': 'Delhi',\n",
    "    'Faridabad, Haryana': 'Faridabad','Faridabad, Haryana, India': 'Faridabad','Gurgaon, Haryana, India': 'Gurgaon','Gurugram#Ref!': 'Gurugram',  'Hyderabad, Andhra Pradesh, India': 'Hyderabad','Hyderebad': 'Hyderabad',  'Indore, Madhya Pradesh, India': 'Indore','Jaipur, Rajastan': 'Jaipur',  \n",
    "    'Jaipur, Rajasthan, India': 'Jaipur','Jodhpur, Rajasthan, India': 'Jodhpur','Kannur, Kerala, India': 'Kanpur',  'Kanpur, Uttar Pradesh, India': 'Kanpur','Kochi, Kerala, India': 'Kochi','Kolkata, West Bengal, India': 'Kolkata',\n",
    "    'London, England, United Kingdom': 'London','Lucknow, Uttar Pradesh, India': 'Lucknow','Mohali, Punjab, India': 'Mohali','Mumbai, Maharashtra, India': 'Mumbai','New Delhi, Delhi, India': 'New Delhi','New York, United States': 'New York',\n",
    "    'Newcastle Upon Tyne, Newcastle Upon Tyne, United Kingdom': 'Newcastle Upon Tyne, United Kingdom','Noida, Uttar Pradesh, India': 'Noida','Powai, Assam, India': 'Powai','Pune, Maharashtra, India': 'Pune','Rajasthan': 'Rajasthan', 'Samastipur, Bihar': 'Samastipur',\n",
    "    'San Franciscao': 'San Francisco', 'San Francisco': 'San Francisco', 'San Francisco Bay Area, Silicon Valley, West Coast': 'San Francisco','San Francisco Bay Area, West Coast, Western Us': 'San Francisco','San Francisco, California, United States': 'San Francisco',\n",
    "    'San Francisco, United States': 'San Francisco','Santra': 'Satara','Sydney, New South Wales, Australia': 'Sydney','Telugana': 'Telangana',  'Thane, Maharashtra, India': 'Thane','Trivandrum, Kerala, India': 'Trivandrum',}\n",
    "df_concat['Location'] = df_concat['Location'].replace(corrections)\n",
    "sorted_values = sorted(df_concat['Location'].unique())\n",
    "print(sorted_values[:])"
   ]
  },
  {
   "cell_type": "code",
   "execution_count": 145,
   "metadata": {
    "tags": []
   },
   "outputs": [
    {
     "name": "stdout",
     "output_type": "stream",
     "text": [
      "Skewness: -3.6595335039306773\n",
      "Kurtosis: 26.64835541280489\n"
     ]
    }
   ],
   "source": [
    "founded_data = df_concat['Founded'].dropna()  # Drop NaN values if any\n",
    "skewness = skew(founded_data)\n",
    "kurt = kurtosis(founded_data)\n",
    "print(f'Skewness: {skewness}')\n",
    "print(f'Kurtosis: {kurt}')"
   ]
  },
  {
   "cell_type": "code",
   "execution_count": 146,
   "metadata": {
    "tags": []
   },
   "outputs": [
    {
     "data": {
      "text/plain": [
       "array([  nan, 2014., 2004., 2013., 2010., 2018., 2019., 2017., 2011.,\n",
       "       2015., 2016., 2012., 2008., 2020., 1998., 2007., 1982., 2009.,\n",
       "       1995., 2006., 1978., 1999., 1994., 2005., 1973., 2002., 2001.,\n",
       "       2021., 1993., 1989., 2000., 2003., 1991., 1984., 1963.])"
      ]
     },
     "execution_count": 146,
     "metadata": {},
     "output_type": "execute_result"
    }
   ],
   "source": [
    "df_concat['Founded'].unique()"
   ]
  },
  {
   "cell_type": "code",
   "execution_count": 147,
   "metadata": {},
   "outputs": [
    {
     "data": {
      "text/plain": [
       "Company Brand    0\n",
       "Sector           0\n",
       "Stage            0\n",
       "Amount           0\n",
       "Location         0\n",
       "What it does?    0\n",
       "Year             0\n",
       "Founded          0\n",
       "Founders         0\n",
       "Investor         0\n",
       "dtype: int64"
      ]
     },
     "execution_count": 147,
     "metadata": {},
     "output_type": "execute_result"
    }
   ],
   "source": [
    "imputer = SimpleImputer(strategy='median')\n",
    "df_concat['Founded'] = df_concat['Founded'].transform(lambda x: x.fillna(x.median()))\n",
    "df_concat['Founded'] = df_concat['Founded'].astype(int)\n",
    "df_concat.isnull().sum()"
   ]
  },
  {
   "cell_type": "markdown",
   "metadata": {},
   "source": [
    "### EDA"
   ]
  },
  {
   "cell_type": "code",
   "execution_count": 148,
   "metadata": {
    "tags": []
   },
   "outputs": [
    {
     "name": "stdout",
     "output_type": "stream",
     "text": [
      "<class 'pandas.core.frame.DataFrame'>\n",
      "RangeIndex: 2879 entries, 0 to 2878\n",
      "Data columns (total 10 columns):\n",
      " #   Column         Non-Null Count  Dtype  \n",
      "---  ------         --------------  -----  \n",
      " 0   Company Brand  2879 non-null   object \n",
      " 1   Sector         2879 non-null   object \n",
      " 2   Stage          2879 non-null   object \n",
      " 3   Amount         2879 non-null   float64\n",
      " 4   Location       2879 non-null   object \n",
      " 5   What it does?  2879 non-null   object \n",
      " 6   Year           2879 non-null   int64  \n",
      " 7   Founded        2879 non-null   int64  \n",
      " 8   Founders       2879 non-null   object \n",
      " 9   Investor       2879 non-null   object \n",
      "dtypes: float64(1), int64(2), object(7)\n",
      "memory usage: 225.1+ KB\n"
     ]
    }
   ],
   "source": [
    "df_concat['Year'] = df_concat['Year'].astype(int)\n",
    "df_concat['Founded'] = df_concat['Founded'].astype(int)\n",
    "df_concat.info()"
   ]
  },
  {
   "cell_type": "code",
   "execution_count": 149,
   "metadata": {
    "tags": []
   },
   "outputs": [
    {
     "data": {
      "text/plain": [
       "count    2.879000e+03\n",
       "mean     9.796454e+07\n",
       "std      3.085577e+09\n",
       "min      8.760000e+02\n",
       "25%      1.000000e+06\n",
       "50%      3.000000e+06\n",
       "75%      8.000000e+06\n",
       "max      1.500000e+11\n",
       "Name: Amount, dtype: float64"
      ]
     },
     "execution_count": 149,
     "metadata": {},
     "output_type": "execute_result"
    }
   ],
   "source": [
    "df_concat['Amount'].describe().round(0).T"
   ]
  },
  {
   "cell_type": "code",
   "execution_count": 150,
   "metadata": {
    "tags": []
   },
   "outputs": [
    {
     "data": {
      "image/png": "[encoded data removed]",
      "text/plain": [
       "<Figure size 1000x300 with 1 Axes>"
      ]
     },
     "metadata": {},
     "output_type": "display_data"
    }
   ],
   "source": [
    "fig, ax = plt.subplots(figsize=(10, 3))\n",
    "sns.lineplot(data=df_concat, x='Year', y='Amount', color='red', ax=ax)\n",
    "ax.set_xlabel('Year')\n",
    "ax.set_ylabel('Amount')\n",
    "plt.show()"
   ]
  },
  {
   "cell_type": "markdown",
   "metadata": {},
   "source": [
    "### 1) On which sector is more times invested?"
   ]
  },
  {
   "cell_type": "code",
   "execution_count": 151,
   "metadata": {},
   "outputs": [
    {
     "ename": "NameError",
     "evalue": "name 'top_values' is not defined",
     "output_type": "error",
     "traceback": [
      "\u001b[0;31m---------------------------------------------------------------------------\u001b[0m",
      "\u001b[0;31mNameError\u001b[0m                                 Traceback (most recent call last)",
      "Cell \u001b[0;32mIn[151], line 4\u001b[0m\n\u001b[1;32m      2\u001b[0m plt\u001b[38;5;241m.\u001b[39mfigure(figsize\u001b[38;5;241m=\u001b[39m(\u001b[38;5;241m10\u001b[39m, \u001b[38;5;241m4\u001b[39m))\n\u001b[1;32m      3\u001b[0m total_count \u001b[38;5;241m=\u001b[39m \u001b[38;5;28mlen\u001b[39m(df_concat[\u001b[38;5;124m'\u001b[39m\u001b[38;5;124mSector\u001b[39m\u001b[38;5;124m'\u001b[39m])  \u001b[38;5;66;03m# Get the total count of the 'Sector' column\u001b[39;00m\n\u001b[0;32m----> 4\u001b[0m bar_colors \u001b[38;5;241m=\u001b[39m sns\u001b[38;5;241m.\u001b[39mcolor_palette(\u001b[38;5;124m'\u001b[39m\u001b[38;5;124mdark\u001b[39m\u001b[38;5;124m'\u001b[39m, n_colors\u001b[38;5;241m=\u001b[39m\u001b[38;5;28mlen\u001b[39m(top_values))\u001b[38;5;66;03m# Choose bar colors\u001b[39;00m\n\u001b[1;32m      5\u001b[0m top_values \u001b[38;5;241m=\u001b[39m df_concat[\u001b[38;5;124m'\u001b[39m\u001b[38;5;124mSector\u001b[39m\u001b[38;5;124m'\u001b[39m]\u001b[38;5;241m.\u001b[39mvalue_counts()\u001b[38;5;241m.\u001b[39mhead(\u001b[38;5;241m10\u001b[39m) \u001b[38;5;66;03m# Calculate  percentage\u001b[39;00m\n\u001b[1;32m      6\u001b[0m percentage_values \u001b[38;5;241m=\u001b[39m ((top_values \u001b[38;5;241m/\u001b[39m total_count) \u001b[38;5;241m*\u001b[39m \u001b[38;5;241m100\u001b[39m)\n",
      "\u001b[0;31mNameError\u001b[0m: name 'top_values' is not defined"
     ]
    },
    {
     "data": {
      "text/plain": [
       "<Figure size 1000x400 with 0 Axes>"
      ]
     },
     "metadata": {},
     "output_type": "display_data"
    }
   ],
   "source": [
    "# Count plot for the \"Sector\" column with annotated percentage on top of each bar\n",
    "plt.figure(figsize=(10, 4))\n",
    "total_count = len(df_concat['Sector'])  # Get the total count of the 'Sector' column\n",
    "bar_colors = sns.color_palette('dark', n_colors=len(top_values))# Choose bar colors\n",
    "top_values = df_concat['Sector'].value_counts().head(10) # Calculate  percentage\n",
    "percentage_values = ((top_values / total_count) * 100)\n",
    "ax = sns.countplot(x='Sector', data=df_concat, order=top_values.index, palette=bar_colors)\n",
    "for p, count, percentage, color, value in zip(ax.patches, top_values, percentage_values, bar_colors, top_values.index):\n",
    "    wrapped_text = '\\n'.join(textwrap.wrap(value, width=12))  # Wrap the text below the bar\n",
    "    ax.annotate(f'{count}({percentage:.1f}%)',\n",
    "                (p.get_x() + p.get_width() / 2., p.get_height()),\n",
    "                ha='center', va='center', fontsize=10, fontweight='bold', color=color,\n",
    "                xytext=(0, 5), textcoords='offset points')\n",
    "plt.title('Distribution of Sector (Count and Percentage)')\n",
    "ax.set_xticklabels(ax.get_xticklabels(), rotation=15, ha='right')\n",
    "plt.show()"
   ]
  },
  {
   "cell_type": "code",
   "execution_count": null,
   "metadata": {},
   "outputs": [],
   "source": []
  },
  {
   "cell_type": "code",
   "execution_count": null,
   "metadata": {},
   "outputs": [],
   "source": []
  },
  {
   "cell_type": "code",
   "execution_count": null,
   "metadata": {},
   "outputs": [],
   "source": []
  },
  {
   "cell_type": "code",
   "execution_count": null,
   "metadata": {},
   "outputs": [],
   "source": []
  },
  {
   "cell_type": "code",
   "execution_count": null,
   "metadata": {},
   "outputs": [],
   "source": []
  },
  {
   "cell_type": "code",
   "execution_count": null,
   "metadata": {},
   "outputs": [],
   "source": []
  },
  {
   "cell_type": "code",
   "execution_count": null,
   "metadata": {},
   "outputs": [],
   "source": []
  },
  {
   "cell_type": "code",
   "execution_count": null,
   "metadata": {},
   "outputs": [],
   "source": []
  },
  {
   "cell_type": "code",
   "execution_count": null,
   "metadata": {},
   "outputs": [],
   "source": []
  }
 ],
 "metadata": {
  "kernelspec": {
   "display_name": "Python 3 (ipykernel)",
   "language": "python",
   "name": "python3"
  },
  "language_info": {
   "codemirror_mode": {
    "name": "ipython",
    "version": 3
   },
   "file_extension": ".py",
   "mimetype": "text/x-python",
   "name": "python",
   "nbconvert_exporter": "python",
   "pygments_lexer": "ipython3",
   "version": "3.11.5"
  }
 },
 "nbformat": 4,
 "nbformat_minor": 4
}
